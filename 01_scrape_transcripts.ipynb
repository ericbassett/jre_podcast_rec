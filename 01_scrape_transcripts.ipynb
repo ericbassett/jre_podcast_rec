{
 "cells": [
  {
   "cell_type": "code",
   "execution_count": 18,
   "metadata": {},
   "outputs": [],
   "source": [
    "import requests\n",
    "from bs4 import BeautifulSoup\n",
    "import pandas as pd\n",
    "import re\n",
    "from copy import deepcopy\n",
    "from urllib.parse import urlparse"
   ]
  },
  {
   "cell_type": "markdown",
   "metadata": {},
   "source": [
    "### URLs"
   ]
  },
  {
   "cell_type": "code",
   "execution_count": 2,
   "metadata": {},
   "outputs": [],
   "source": [
    "# urls for JRE transcripts\n",
    "url_podgist = 'https://www.podgist.com/joe-rogan-experience/index.html'\n",
    "url_podscribe = 'https://podscribe.app/feeds/http-joeroganexpjoeroganlibsynprocom-rss'"
   ]
  },
  {
   "cell_type": "markdown",
   "metadata": {},
   "source": [
    "### Requests"
   ]
  },
  {
   "cell_type": "code",
   "execution_count": 4,
   "metadata": {},
   "outputs": [],
   "source": [
    "# pull in websites\n",
    "resp_podgist = requests.get(url_podgist)\n",
    "resp_podscribe = requests.get(url_podscribe)"
   ]
  },
  {
   "cell_type": "markdown",
   "metadata": {},
   "source": [
    "### Beautiful Soup Pages"
   ]
  },
  {
   "cell_type": "code",
   "execution_count": 5,
   "metadata": {},
   "outputs": [],
   "source": [
    "# Beautiful Soup pages\n",
    "page_podgist = BeautifulSoup(resp_podgist.text, 'html.parser')\n",
    "page_podscribe = BeautifulSoup(resp_podscribe.text, 'html.parser')"
   ]
  },
  {
   "cell_type": "markdown",
   "metadata": {},
   "source": [
    "### Scrape Podgist"
   ]
  },
  {
   "cell_type": "code",
   "execution_count": 25,
   "metadata": {},
   "outputs": [],
   "source": [
    "# list in podgist\n",
    "podgist_episode_list = []\n",
    "\n",
    "# domain\n",
    "uri_podgist = urlparse(url_podgist)\n",
    "domain_podgist = '{uri.scheme}://{uri.netloc}'.format(uri=uri_podgist)\n",
    "\n",
    "# get rows in table\n",
    "rows_podcasts = (\n",
    "    page_podgist\n",
    "    .find('main', role='source-list')\n",
    "    .find('table')\n",
    "    .findAll('tr')\n",
    ")\n",
    "\n",
    "# loop through rows looking for link\n",
    "for row in rows_podcasts:\n",
    "    # cells in row\n",
    "    cells = row.findAll('td')\n",
    "    \n",
    "    # look for 2 or greater cells\n",
    "    if len(cells) >= 2:\n",
    "        \n",
    "        # look for span with transcribed icon\n",
    "        if cells[0].find('span', class_='icon-ghost icon-transcribed'):\n",
    "            \n",
    "            # empty episode dict\n",
    "            episode = {}\n",
    "            \n",
    "            \n",
    "            # get episode name and number\n",
    "            episode['name'] = cells[1].find('a').text\n",
    "            episode['url'] = domain_podgist+cells[1].find('a')['href']\n",
    "\n",
    "            # append to list\n",
    "            podgist_episode_list.append(deepcopy(episode))"
   ]
  },
  {
   "cell_type": "markdown",
   "metadata": {},
   "source": [
    "### Scrape Podscribe"
   ]
  },
  {
   "cell_type": "code",
   "execution_count": 31,
   "metadata": {},
   "outputs": [],
   "source": [
    "# list in podscribe\n",
    "podscribe_episode_list = []\n",
    "\n",
    "# domain\n",
    "uri_podscribe = urlparse(url_podscribe)\n",
    "domain_podscribe = '{uri.scheme}://{uri.netloc}'.format(uri=uri_podscribe)\n",
    "\n",
    "# get rows in table\n",
    "rows_podcasts = (\n",
    "    page_podscribe\n",
    "    .find('table')\n",
    "    .find('tbody')\n",
    "    .findAll('tr')\n",
    ")\n",
    "\n",
    "# loop through rows looking for link\n",
    "for row in rows_podcasts:\n",
    "    # cells in row\n",
    "    cells = row.findAll('td')\n",
    "    \n",
    "    # look for 2 or greater cells\n",
    "    if len(cells) >= 2:\n",
    "        \n",
    "        # look for episode link\n",
    "        episode_cell = cells[1].find('a')\n",
    "        \n",
    "        if episode_cell:\n",
    "            \n",
    "            # look for episode transcribed icon\n",
    "            if episode_cell.find('i'):\n",
    "                \n",
    "                # empty episode dict\n",
    "                episode = {}\n",
    "                \n",
    "                # get episode name and number\n",
    "                episode['name'] = episode_cell.text\n",
    "                episode['url'] = domain_podscribe+episode_cell['href']\n",
    "\n",
    "                # append episode\n",
    "                podscribe_episode_list.append(deepcopy(episode))"
   ]
  },
  {
   "cell_type": "markdown",
   "metadata": {},
   "source": [
    "### Eliminate Duplicates"
   ]
  },
  {
   "cell_type": "code",
   "execution_count": null,
   "metadata": {},
   "outputs": [],
   "source": [
    "# all episodes\n",
    "total_episodes = set(\n",
    "    podscribe_episode_list.copy()+podgist_episode_list.copy()\n",
    ")\n",
    "len(total_episodes)"
   ]
  }
 ],
 "metadata": {
  "kernelspec": {
   "display_name": "Python [conda env:metis] *",
   "language": "python",
   "name": "conda-env-metis-py"
  },
  "language_info": {
   "codemirror_mode": {
    "name": "ipython",
    "version": 3
   },
   "file_extension": ".py",
   "mimetype": "text/x-python",
   "name": "python",
   "nbconvert_exporter": "python",
   "pygments_lexer": "ipython3",
   "version": "3.7.4"
  }
 },
 "nbformat": 4,
 "nbformat_minor": 4
}
