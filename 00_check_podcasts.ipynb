{
 "cells": [
  {
   "cell_type": "code",
   "execution_count": 25,
   "metadata": {},
   "outputs": [],
   "source": [
    "import requests\n",
    "from bs4 import BeautifulSoup\n",
    "import pandas as pd\n",
    "import re"
   ]
  },
  {
   "cell_type": "code",
   "execution_count": null,
   "metadata": {},
   "outputs": [],
   "source": [
    "# urls for JRE transcripts\n",
    "url_podgist = 'https://www.podgist.com/joe-rogan-experience/index.html'\n",
    "url_podscribe = 'https://podscribe.app/feeds/http-joeroganexpjoeroganlibsynprocom-rss'"
   ]
  },
  {
   "cell_type": "code",
   "execution_count": null,
   "metadata": {},
   "outputs": [],
   "source": [
    "# pull in websites\n",
    "resp_podgist = requests.get(url_podgist)\n",
    "resp_podscribe = requests.get(url_podscribe)"
   ]
  },
  {
   "cell_type": "code",
   "execution_count": null,
   "metadata": {},
   "outputs": [],
   "source": [
    "# Beautiful Soup pages\n",
    "page_podgist = BeautifulSoup(resp_podgist.text, 'html.parser')\n",
    "page_podscribe = BeautifulSoup(resp_podscribe.text, 'html.parser')"
   ]
  },
  {
   "cell_type": "code",
   "execution_count": null,
   "metadata": {},
   "outputs": [],
   "source": [
    "# list in podgist\n",
    "podgist_episode_list = []\n",
    "\n",
    "# get rows in table\n",
    "rows_podcasts = (\n",
    "    page_podgist\n",
    "    .find('main', role='source-list')\n",
    "    .find('table')\n",
    "    .findAll('tr')\n",
    ")\n",
    "\n",
    "# loop through rows looking for link\n",
    "for row in rows_podcasts:\n",
    "    # cells in row\n",
    "    cells = row.findAll('td')\n",
    "    \n",
    "    # look for 2 or greater cells\n",
    "    if len(cells) >= 2:\n",
    "        \n",
    "        # look for span with transcribed icon\n",
    "        if cells[0].find('span', class_='icon-ghost icon-transcribed'):\n",
    "            \n",
    "            # get episode name and number\n",
    "            episode_name = cells[1].find('a').text\n",
    "            match_episode_num = re.search('\\d+',episode_name)\n",
    "            \n",
    "            # append number if you have it\n",
    "            if match_episode_num:\n",
    "                podgist_episode_list.append(match_episode_num.group(0))\n",
    "            else:\n",
    "                podgist_episode_list.append(episode_name)\n",
    "            \n",
    "len(podgist_episode_list)    "
   ]
  },
  {
   "cell_type": "code",
   "execution_count": null,
   "metadata": {},
   "outputs": [],
   "source": [
    "# list in podscribe\n",
    "podscribe_episode_list = []\n",
    "\n",
    "# get rows in table\n",
    "rows_podcasts = (\n",
    "    page_podscribe\n",
    "    .find('table')\n",
    "    .find('tbody')\n",
    "    .findAll('tr')\n",
    ")\n",
    "\n",
    "# loop through rows looking for link\n",
    "for row in rows_podcasts:\n",
    "    # cells in row\n",
    "    cells = row.findAll('td')\n",
    "    \n",
    "    # look for 2 or greater cells\n",
    "    if len(cells) >= 2:\n",
    "        \n",
    "        # look for episode link\n",
    "        episode_cell = cells[1].find('a')\n",
    "        \n",
    "        if episode_cell:\n",
    "            \n",
    "            # look for episode transcribed icon\n",
    "            if episode_cell.find('i'):\n",
    "                \n",
    "                # get episode name and number\n",
    "                episode_name = episode_cell.text\n",
    "                match_episode_num = re.search('\\d+',episode_name)\n",
    "\n",
    "                # append number if you have it\n",
    "                if match_episode_num:\n",
    "                    podscribe_episode_list.append(match_episode_num.group(0))\n",
    "                else:\n",
    "                    podscribe_episode_list.append(episode_name)\n",
    "            \n",
    "len(podscribe_episode_list)"
   ]
  },
  {
   "cell_type": "code",
   "execution_count": 2,
   "metadata": {},
   "outputs": [],
   "source": [
    "# all episodes\n",
    "total_episodes = set(\n",
    "    podscribe_episode_list.copy()+podgist_episode_list.copy()\n",
    ")\n",
    "len(total_episodes)"
   ]
  }
 ],
 "metadata": {
  "kernelspec": {
   "display_name": "Python [conda env:metis] *",
   "language": "python",
   "name": "conda-env-metis-py"
  },
  "language_info": {
   "codemirror_mode": {
    "name": "ipython",
    "version": 3
   },
   "file_extension": ".py",
   "mimetype": "text/x-python",
   "name": "python",
   "nbconvert_exporter": "python",
   "pygments_lexer": "ipython3",
   "version": "3.7.4"
  }
 },
 "nbformat": 4,
 "nbformat_minor": 4
}
