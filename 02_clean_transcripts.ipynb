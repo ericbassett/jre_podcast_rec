{
 "cells": [
  {
   "cell_type": "code",
   "execution_count": 1,
   "metadata": {},
   "outputs": [
    {
     "name": "stdout",
     "output_type": "stream",
     "text": [
      "Python Version: 3.7.4 (default, Aug 13 2019, 20:35:49) \n",
      "[GCC 7.3.0]\n"
     ]
    }
   ],
   "source": [
    "import sys\n",
    "print(\"Python Version:\", sys.version)"
   ]
  },
  {
   "cell_type": "code",
   "execution_count": 2,
   "metadata": {},
   "outputs": [],
   "source": [
    "#######################\n",
    "# standard code block #\n",
    "#######################\n",
    "\n",
    "%config InlineBackend.figure_format = 'svg'\n",
    "\n",
    "# auto reload imports that change\n",
    "%load_ext autoreload\n",
    "# only set to auto reload for marked imports\n",
    "%autoreload 1"
   ]
  },
  {
   "cell_type": "markdown",
   "metadata": {},
   "source": [
    "## Pull Data"
   ]
  },
  {
   "cell_type": "markdown",
   "metadata": {},
   "source": [
    "### Connect to Database"
   ]
  },
  {
   "cell_type": "code",
   "execution_count": 3,
   "metadata": {},
   "outputs": [],
   "source": [
    "from pymongo import MongoClient\n",
    "%aimport credentials.cred\n",
    "from credentials import cred\n",
    "\n",
    "\n",
    "config = {\n",
    "  'host': cred.mongo_host,\n",
    "  'username': cred.mongo_user,\n",
    "  'password': cred.mongo_pass,\n",
    "  'authSource': cred.mongo_auth_db\n",
    "}\n",
    "\n",
    "# get a mongo client\n",
    "client = MongoClient(**config)\n",
    "\n",
    "# use the raw database\n",
    "jre_raw = client.jre_raw\n",
    "podcasts_raw = jre_raw.podcasts"
   ]
  },
  {
   "cell_type": "markdown",
   "metadata": {},
   "source": [
    "### Get Podcasts"
   ]
  },
  {
   "cell_type": "code",
   "execution_count": 49,
   "metadata": {},
   "outputs": [],
   "source": [
    "# possible keys = _id, name, url, number, text, source, desc\n",
    "# query\n",
    "ep_mongo = list(\n",
    "    podcasts_raw\n",
    "    .find({},{'_id':0})\n",
    ")"
   ]
  },
  {
   "cell_type": "code",
   "execution_count": 50,
   "metadata": {},
   "outputs": [],
   "source": [
    "names_list = [ep['name'] for ep in ep_mongo]\n",
    "numbers_list = [ep['number'] for ep in ep_mongo]"
   ]
  },
  {
   "cell_type": "markdown",
   "metadata": {},
   "source": [
    "## Clean"
   ]
  },
  {
   "cell_type": "markdown",
   "metadata": {},
   "source": [
    "### Clean Names"
   ]
  },
  {
   "cell_type": "code",
   "execution_count": 27,
   "metadata": {},
   "outputs": [],
   "source": [
    "import re\n",
    "\n",
    "clean_names = [re.sub(r'^.*?\\d+(\\s*-\\s*|\\s*with\\s*)','',name) for name in names_list]"
   ]
  },
  {
   "cell_type": "code",
   "execution_count": 57,
   "metadata": {},
   "outputs": [
    {
     "name": "stdout",
     "output_type": "stream",
     "text": [
      "renamed 'JRE MMA Show #2' to 'Gastelum/Bisping fight'\n",
      "renamed 'Podcast from a Car #2' to 'Cameron Hanes'\n",
      "renamed 'Podcast from a Car' to 'Bryan Callen'\n",
      "renamed '#319 â Alex Honnold, Brian Redban' to 'Alex Honnold, Brian Redban'\n",
      "renamed '#194 â Jason Silva, Brian Redban' to 'Jason Silva, Brian Redban'\n",
      "renamed 'PODCAST #12' to 'Joe Rogan'\n",
      "renamed ' Swapcast - Podcast On A Plane with John Dudley' to 'Swapcast - Podcast On A Plane with John Dudley'\n"
     ]
    }
   ],
   "source": [
    "# clean up the weird names\n",
    "renames = {\n",
    "    'JRE MMA Show #2':'Gastelum/Bisping fight', 'Podcast from a Car #2':'Cameron Hanes',\n",
    "    'Podcast from a Car':'Bryan Callen','#319 â\\x80\\x93 Alex Honnold, Brian Redban':'Alex Honnold, Brian Redban',\n",
    "    '#194 â\\x80\\x93 Jason Silva, Brian Redban':'Jason Silva, Brian Redban','PODCAST #12':'Joe Rogan', \n",
    "    ' Swapcast - Podcast On A Plane with John Dudley':'Swapcast - Podcast On A Plane with John Dudley'    \n",
    "}\n",
    "\n",
    "for i, name in enumerate(clean_names):\n",
    "    if name in renames.keys():\n",
    "        clean_names[i] = renames[name]\n",
    "        print(f\"renamed '{name}' to '{renames[name]}'\")"
   ]
  },
  {
   "cell_type": "markdown",
   "metadata": {},
   "source": [
    "### Put cleaned names into ep_mongo"
   ]
  },
  {
   "cell_type": "code",
   "execution_count": 64,
   "metadata": {},
   "outputs": [],
   "source": [
    "for i,ep in enumerate(ep_mongo):\n",
    "    ep['name'] = clean_names[i]"
   ]
  },
  {
   "cell_type": "markdown",
   "metadata": {},
   "source": [
    "### Clean Numbers"
   ]
  },
  {
   "cell_type": "code",
   "execution_count": 75,
   "metadata": {},
   "outputs": [
    {
     "data": {
      "text/plain": [
       "[381, 401, 405, 415, 424, 577, 864]"
      ]
     },
     "execution_count": 75,
     "metadata": {},
     "output_type": "execute_result"
    }
   ],
   "source": [
    "# find nones\n",
    "none_idx = [i for i,x in enumerate(numbers_list) if x is None]\n",
    "none_idx"
   ]
  },
  {
   "cell_type": "markdown",
   "metadata": {},
   "source": [
    "## Push up to cleaned podcast collection"
   ]
  },
  {
   "cell_type": "code",
   "execution_count": 78,
   "metadata": {},
   "outputs": [],
   "source": [
    "# get the clean database\n",
    "jre_clean = client.jre_clean\n",
    "podcasts_clean = jre_clean.podcasts"
   ]
  },
  {
   "cell_type": "code",
   "execution_count": 79,
   "metadata": {},
   "outputs": [
    {
     "data": {
      "text/plain": [
       "<pymongo.results.InsertManyResult at 0x7fdd38e0e1e0>"
      ]
     },
     "execution_count": 79,
     "metadata": {},
     "output_type": "execute_result"
    }
   ],
   "source": [
    "# push the cleaned versions\n",
    "podcasts_clean.insert_many(ep_mongo)"
   ]
  },
  {
   "cell_type": "code",
   "execution_count": 80,
   "metadata": {},
   "outputs": [
    {
     "data": {
      "text/plain": [
       "True"
      ]
     },
     "execution_count": 80,
     "metadata": {},
     "output_type": "execute_result"
    }
   ],
   "source": [
    "len(ep_mongo) == podcasts_clean.count_documents({})"
   ]
  },
  {
   "cell_type": "code",
   "execution_count": 81,
   "metadata": {},
   "outputs": [],
   "source": [
    "client.close()"
   ]
  }
 ],
 "metadata": {
  "kernelspec": {
   "display_name": "Python [conda env:metis] *",
   "language": "python",
   "name": "conda-env-metis-py"
  },
  "language_info": {
   "codemirror_mode": {
    "name": "ipython",
    "version": 3
   },
   "file_extension": ".py",
   "mimetype": "text/x-python",
   "name": "python",
   "nbconvert_exporter": "python",
   "pygments_lexer": "ipython3",
   "version": "3.7.4"
  },
  "toc": {
   "base_numbering": 1,
   "nav_menu": {},
   "number_sections": true,
   "sideBar": true,
   "skip_h1_title": false,
   "title_cell": "Table of Contents",
   "title_sidebar": "Contents",
   "toc_cell": false,
   "toc_position": {},
   "toc_section_display": true,
   "toc_window_display": false
  }
 },
 "nbformat": 4,
 "nbformat_minor": 4
}
